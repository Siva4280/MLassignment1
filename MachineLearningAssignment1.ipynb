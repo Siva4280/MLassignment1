{
 "cells": [
  {
   "cell_type": "code",
   "execution_count": 1,
   "id": "3276c5f7",
   "metadata": {},
   "outputs": [],
   "source": [
    "#Question1#\n",
    "ages = [19, 22, 19, 24, 20, 25, 26, 24, 25, 24]"
   ]
  },
  {
   "cell_type": "code",
   "execution_count": 2,
   "id": "505cdd5f",
   "metadata": {},
   "outputs": [
    {
     "data": {
      "text/plain": [
       "[19, 22, 19, 24, 20, 25, 26, 24, 25, 24]"
      ]
     },
     "execution_count": 2,
     "metadata": {},
     "output_type": "execute_result"
    }
   ],
   "source": [
    "ages"
   ]
  },
  {
   "cell_type": "code",
   "execution_count": 3,
   "id": "1dc7fef7",
   "metadata": {},
   "outputs": [
    {
     "data": {
      "text/plain": [
       "[19, 19, 20, 22, 24, 24, 24, 25, 25, 26]"
      ]
     },
     "execution_count": 3,
     "metadata": {},
     "output_type": "execute_result"
    }
   ],
   "source": [
    "ages.sort()#the sort funtion is  built in function used to sort the elements of the list#\n",
    "ages"
   ]
  },
  {
   "cell_type": "code",
   "execution_count": 4,
   "id": "0cb22087",
   "metadata": {},
   "outputs": [
    {
     "name": "stdout",
     "output_type": "stream",
     "text": [
      "19\n"
     ]
    }
   ],
   "source": [
    "print(min(ages))#the min is used to find the minimum element of the list"
   ]
  },
  {
   "cell_type": "code",
   "execution_count": 5,
   "id": "ab52b578",
   "metadata": {},
   "outputs": [
    {
     "name": "stdout",
     "output_type": "stream",
     "text": [
      "26\n"
     ]
    }
   ],
   "source": [
    "print(max(ages))#the max is used to find the maximum element of the list"
   ]
  },
  {
   "cell_type": "code",
   "execution_count": 6,
   "id": "ce157ec4",
   "metadata": {},
   "outputs": [
    {
     "data": {
      "text/plain": [
       "[19, 19, 20, 22, 24, 24, 24, 25, 25, 26, 19, 26]"
      ]
     },
     "execution_count": 6,
     "metadata": {},
     "output_type": "execute_result"
    }
   ],
   "source": [
    "ages.append(min(ages))#the append function is used to add data to the the list by calculating the minimum  age as argument#\n",
    "ages.append(max(ages))#the append function is used to add data to the the list by calculating the maximum  age as argument#\n",
    "ages"
   ]
  },
  {
   "cell_type": "code",
   "execution_count": 7,
   "id": "a5ba6194",
   "metadata": {},
   "outputs": [],
   "source": [
    "import numpy as npy #this is to import the numpy package#"
   ]
  },
  {
   "cell_type": "code",
   "execution_count": 9,
   "id": "0d6c72cf",
   "metadata": {},
   "outputs": [
    {
     "data": {
      "text/plain": [
       "24.0"
      ]
     },
     "execution_count": 9,
     "metadata": {},
     "output_type": "execute_result"
    }
   ],
   "source": [
    "npy.median(ages)#The median is built in function used to calculate the median of the list data#"
   ]
  },
  {
   "cell_type": "code",
   "execution_count": 11,
   "id": "6873ba9d",
   "metadata": {},
   "outputs": [
    {
     "data": {
      "text/plain": [
       "22.75"
      ]
     },
     "execution_count": 11,
     "metadata": {},
     "output_type": "execute_result"
    }
   ],
   "source": [
    "npy.average(ages)# the average is built in function used to calculate the average of the list data#"
   ]
  },
  {
   "cell_type": "code",
   "execution_count": 12,
   "id": "94e4a7c8",
   "metadata": {},
   "outputs": [
    {
     "data": {
      "text/plain": [
       "range(19, 26)"
      ]
     },
     "execution_count": 12,
     "metadata": {},
     "output_type": "execute_result"
    }
   ],
   "source": [
    "ages_range_value=range(min(ages),max(ages)) #the range function is used to find ranges of given list#\n",
    "ages_range_value"
   ]
  },
  {
   "cell_type": "code",
   "execution_count": 13,
   "id": "cd9b3939",
   "metadata": {},
   "outputs": [
    {
     "data": {
      "text/plain": [
       "{'name': 'sambo',\n",
       " 'color': 'white',\n",
       " 'breed': 'pitbull',\n",
       " 'legs': 'four',\n",
       " 'age': 'eight moths'}"
      ]
     },
     "execution_count": 13,
     "metadata": {},
     "output_type": "execute_result"
    }
   ],
   "source": [
    "#Question2#\n",
    "dog={} #Dictionaries are optimized to retrieve values when the key is known#\n",
    "dog['name']='sambo'#created dictionary with dog name#\n",
    "dog['color']='white'#created dictionary with dog color#\n",
    "dog['breed']='pitbull'#created dictionary with dog breed#\n",
    "dog['legs']='four'#created dictionary with dog legs#\n",
    "dog['age']='eight moths'#created dictionary with dog age#\n",
    "dog"
   ]
  },
  {
   "cell_type": "code",
   "execution_count": 14,
   "id": "90aee05c",
   "metadata": {},
   "outputs": [
    {
     "data": {
      "text/plain": [
       "{'first_name': 'siva',\n",
       " 'last_name': 'reddy',\n",
       " 'gender': 'Male',\n",
       " 'age': 26,\n",
       " 'marital_status': 'single',\n",
       " 'skills': ['Java Programmer', 'python programmer'],\n",
       " 'city': 'Kurnool',\n",
       " 'address': 'kallapari'}"
      ]
     },
     "execution_count": 14,
     "metadata": {},
     "output_type": "execute_result"
    }
   ],
   "source": [
    "student={} #created dictionary with name student#\n",
    "student['first_name']='siva'#added first_name to student dictionary#\n",
    "student['last_name']='reddy'#added last_name to student dictionary#\n",
    "student['gender']='Male'#added gender to student dictionary#\n",
    "student['age']=26 #added first age to student dictionary#\n",
    "student['marital_status']='single'#added marital_status to student dictionary#\n",
    "student['skills']=['Java Programmer','python programmer']#added skills to student dictionary#\n",
    "student['city']='Kurnool'#added city to student dictionary#\n",
    "student['address']='kallapari'#added address to student dictionary#\n",
    "student"
   ]
  },
  {
   "cell_type": "code",
   "execution_count": 15,
   "id": "4201915a",
   "metadata": {},
   "outputs": [
    {
     "data": {
      "text/plain": [
       "8"
      ]
     },
     "execution_count": 15,
     "metadata": {},
     "output_type": "execute_result"
    }
   ],
   "source": [
    "len(student) # length function is used find the length of dictionary#"
   ]
  },
  {
   "cell_type": "code",
   "execution_count": 16,
   "id": "299cd5de",
   "metadata": {},
   "outputs": [
    {
     "name": "stdout",
     "output_type": "stream",
     "text": [
      "['Java Programmer', 'python programmer']\n",
      "<class 'list'>\n"
     ]
    }
   ],
   "source": [
    "print(student['skills']) # print student skills#\n",
    "print(type(student['skills']))# print the Type of student skills#"
   ]
  },
  {
   "cell_type": "code",
   "execution_count": 17,
   "id": "7d6ebef2",
   "metadata": {},
   "outputs": [
    {
     "data": {
      "text/plain": [
       "{'first_name': 'siva',\n",
       " 'last_name': 'reddy',\n",
       " 'gender': 'Male',\n",
       " 'age': 26,\n",
       " 'marital_status': 'single',\n",
       " 'skills': ['Java Programmer', 'python programmer', 'C++ Programmer'],\n",
       " 'city': 'Kurnool',\n",
       " 'address': 'kallapari'}"
      ]
     },
     "execution_count": 17,
     "metadata": {},
     "output_type": "execute_result"
    }
   ],
   "source": [
    "student['skills'].append('C++ Programmer') #adding another more skill to skills list#\n",
    "student"
   ]
  },
  {
   "cell_type": "code",
   "execution_count": 18,
   "id": "832b9984",
   "metadata": {},
   "outputs": [
    {
     "data": {
      "text/plain": [
       "dict_keys(['first_name', 'last_name', 'gender', 'age', 'marital_status', 'skills', 'city', 'address'])"
      ]
     },
     "execution_count": 18,
     "metadata": {},
     "output_type": "execute_result"
    }
   ],
   "source": [
    "student.keys() #we can access the keys using keys() method#"
   ]
  },
  {
   "cell_type": "code",
   "execution_count": 19,
   "id": "d5bc4ce4",
   "metadata": {},
   "outputs": [
    {
     "data": {
      "text/plain": [
       "dict_values(['siva', 'reddy', 'Male', 26, 'single', ['Java Programmer', 'python programmer', 'C++ Programmer'], 'Kurnool', 'kallapari'])"
      ]
     },
     "execution_count": 19,
     "metadata": {},
     "output_type": "execute_result"
    }
   ],
   "source": [
    "student.values() #we can access the Values using keys() method#"
   ]
  },
  {
   "cell_type": "code",
   "execution_count": 20,
   "id": "4754f195",
   "metadata": {},
   "outputs": [
    {
     "name": "stdout",
     "output_type": "stream",
     "text": [
      "('Aparna', 'Reddy')\n",
      "('Venkatesh', 'Reddy')\n"
     ]
    }
   ],
   "source": [
    "#Question3#\n",
    "sister=('Aparna','Reddy')# The tuple is added with the values#\n",
    "brother=('Venkatesh','Reddy')\n",
    "print(sister)\n",
    "print(brother)"
   ]
  },
  {
   "cell_type": "code",
   "execution_count": 21,
   "id": "2d78aa41",
   "metadata": {},
   "outputs": [
    {
     "data": {
      "text/plain": [
       "('Aparna', 'Reddy', 'Venkatesh', 'Reddy')"
      ]
     },
     "execution_count": 21,
     "metadata": {},
     "output_type": "execute_result"
    }
   ],
   "source": [
    "siblings=sister+brother #added siblings to tuple#\n",
    "siblings"
   ]
  },
  {
   "cell_type": "code",
   "execution_count": 22,
   "id": "cd389b97",
   "metadata": {},
   "outputs": [
    {
     "data": {
      "text/plain": [
       "4"
      ]
     },
     "execution_count": 22,
     "metadata": {},
     "output_type": "execute_result"
    }
   ],
   "source": [
    "len(siblings) #length is a bulit in  function used to find  length of  the tuple#"
   ]
  },
  {
   "cell_type": "code",
   "execution_count": 23,
   "id": "ccb637a1",
   "metadata": {},
   "outputs": [
    {
     "data": {
      "text/plain": [
       "('Aparna', 'Reddy', 'Venkatesh', 'Reddy', 'Yella', 'Uma')"
      ]
     },
     "execution_count": 23,
     "metadata": {},
     "output_type": "execute_result"
    }
   ],
   "source": [
    "family_members=siblings+('Yella','Uma')# Modify the siblings tuple and add the name of your father and mother and assign it to\n",
    "family_members"
   ]
  },
  {
   "cell_type": "code",
   "execution_count": 43,
   "id": "c69f8deb",
   "metadata": {},
   "outputs": [],
   "source": [
    "#Question4#\n",
    "it_companies = {'Facebook', 'Google', 'Microsoft', 'Apple', 'IBM', 'Oracle', 'Amazon'}\n",
    "A = {19, 22, 24, 20, 25, 26}\n",
    "B = {19, 22, 20, 25, 26, 24, 28, 27}\n",
    "age = [22, 19, 24, 25, 26, 24, 25, 24]"
   ]
  },
  {
   "cell_type": "code",
   "execution_count": 44,
   "id": "41a13ca8",
   "metadata": {},
   "outputs": [
    {
     "data": {
      "text/plain": [
       "7"
      ]
     },
     "execution_count": 44,
     "metadata": {},
     "output_type": "execute_result"
    }
   ],
   "source": [
    "len(it_companies)#The length function is used find the length of set#"
   ]
  },
  {
   "cell_type": "code",
   "execution_count": 45,
   "id": "1e24d5c8",
   "metadata": {},
   "outputs": [
    {
     "data": {
      "text/plain": [
       "{'Amazon',\n",
       " 'Apple',\n",
       " 'Facebook',\n",
       " 'Google',\n",
       " 'IBM',\n",
       " 'Microsoft',\n",
       " 'Oracle',\n",
       " 'Twitter'}"
      ]
     },
     "execution_count": 45,
     "metadata": {},
     "output_type": "execute_result"
    }
   ],
   "source": [
    "it_companies.add('Twitter')#The twitter is added by using add function#\n",
    "it_companies"
   ]
  },
  {
   "cell_type": "code",
   "execution_count": 46,
   "id": "21115295",
   "metadata": {},
   "outputs": [
    {
     "data": {
      "text/plain": [
       "{'Amazon',\n",
       " 'Apple',\n",
       " 'Facebook',\n",
       " 'Google',\n",
       " 'HCL',\n",
       " 'IBM',\n",
       " 'Microsoft',\n",
       " 'Oracle',\n",
       " 'Twitter',\n",
       " 'Wipro'}"
      ]
     },
     "execution_count": 46,
     "metadata": {},
     "output_type": "execute_result"
    }
   ],
   "source": [
    "it_companies.update(['HCL','Wipro'])#the update method is used to update the set#.\n",
    "it_companies"
   ]
  },
  {
   "cell_type": "code",
   "execution_count": 47,
   "id": "91531b1d",
   "metadata": {},
   "outputs": [
    {
     "data": {
      "text/plain": [
       "{'Amazon',\n",
       " 'Apple',\n",
       " 'Facebook',\n",
       " 'Google',\n",
       " 'IBM',\n",
       " 'Microsoft',\n",
       " 'Oracle',\n",
       " 'Twitter',\n",
       " 'Wipro'}"
      ]
     },
     "execution_count": 47,
     "metadata": {},
     "output_type": "execute_result"
    }
   ],
   "source": [
    "it_companies.remove('HCL')#The remove method is remove the HCL#\n",
    "\n",
    "it_companies"
   ]
  },
  {
   "cell_type": "code",
   "execution_count": 48,
   "id": "f9980f42",
   "metadata": {},
   "outputs": [
    {
     "data": {
      "text/plain": [
       "{19, 20, 22, 24, 25, 26, 27, 28}"
      ]
     },
     "execution_count": 48,
     "metadata": {},
     "output_type": "execute_result"
    }
   ],
   "source": [
    "A.union(B)#The union function is used to combine two sets#"
   ]
  },
  {
   "cell_type": "code",
   "execution_count": 49,
   "id": "9a90e2eb",
   "metadata": {},
   "outputs": [
    {
     "data": {
      "text/plain": [
       "{19, 20, 22, 24, 25, 26}"
      ]
     },
     "execution_count": 49,
     "metadata": {},
     "output_type": "execute_result"
    }
   ],
   "source": [
    "A.intersection(B)#The Intersection function is used to find common of two sets#"
   ]
  },
  {
   "cell_type": "code",
   "execution_count": 50,
   "id": "9d9fe249",
   "metadata": {},
   "outputs": [
    {
     "data": {
      "text/plain": [
       "True"
      ]
     },
     "execution_count": 50,
     "metadata": {},
     "output_type": "execute_result"
    }
   ],
   "source": [
    "A.issubset(B) #The issubset to find the  whether the A is subset of B #"
   ]
  },
  {
   "cell_type": "code",
   "execution_count": 51,
   "id": "4710b768",
   "metadata": {},
   "outputs": [
    {
     "data": {
      "text/plain": [
       "False"
      ]
     },
     "execution_count": 51,
     "metadata": {},
     "output_type": "execute_result"
    }
   ],
   "source": [
    "A.isdisjoint(B)#The issubset to find the  whether the A is isdisjoint of B #"
   ]
  },
  {
   "cell_type": "code",
   "execution_count": 52,
   "id": "9b77ed28",
   "metadata": {},
   "outputs": [
    {
     "data": {
      "text/plain": [
       "{19, 20, 22, 24, 25, 26, 27, 28}"
      ]
     },
     "execution_count": 52,
     "metadata": {},
     "output_type": "execute_result"
    }
   ],
   "source": [
    "A.union(B) and B.union(A)#The and operation is used to find the union of two sets#\n"
   ]
  },
  {
   "cell_type": "code",
   "execution_count": 53,
   "id": "7269c7fa",
   "metadata": {},
   "outputs": [
    {
     "data": {
      "text/plain": [
       "{19, 20, 22, 24, 25, 26, 27, 28}"
      ]
     },
     "execution_count": 53,
     "metadata": {},
     "output_type": "execute_result"
    }
   ],
   "source": [
    "A.union(B) and B.union(A)"
   ]
  },
  {
   "cell_type": "code",
   "execution_count": 54,
   "id": "52ad8324",
   "metadata": {},
   "outputs": [
    {
     "data": {
      "text/plain": [
       "{27, 28}"
      ]
     },
     "execution_count": 54,
     "metadata": {},
     "output_type": "execute_result"
    }
   ],
   "source": [
    "A.symmetric_difference(B)#Here, I found the symmetric difference between A and B."
   ]
  },
  {
   "cell_type": "code",
   "execution_count": 55,
   "id": "2d1fc21c",
   "metadata": {},
   "outputs": [],
   "source": [
    "del A #Here, I have deleted sets completely.\n",
    "del B"
   ]
  },
  {
   "cell_type": "code",
   "execution_count": 56,
   "id": "d0648217",
   "metadata": {},
   "outputs": [
    {
     "data": {
      "text/plain": [
       "{19, 22, 24, 25, 26}"
      ]
     },
     "execution_count": 56,
     "metadata": {},
     "output_type": "execute_result"
    }
   ],
   "source": [
    "age_set=set(age)#Here, I Converted the ages to a set and compare the length of the list and the set.\n",
    "age_set"
   ]
  },
  {
   "cell_type": "code",
   "execution_count": 57,
   "id": "d6f99000",
   "metadata": {},
   "outputs": [
    {
     "name": "stdout",
     "output_type": "stream",
     "text": [
      "Enter radius : 30\n"
     ]
    },
    {
     "data": {
      "text/plain": [
       "2826.0"
      ]
     },
     "execution_count": 57,
     "metadata": {},
     "output_type": "execute_result"
    }
   ],
   "source": [
    "#Question5#\n",
    "radius=input('Enter radius : ')#to find the area of circle\n",
    "radius=int(radius)\n",
    "_area_of_circle_=(3.14)*(radius**2)\n",
    "_area_of_circle_"
   ]
  },
  {
   "cell_type": "code",
   "execution_count": 58,
   "id": "1c952c61",
   "metadata": {},
   "outputs": [
    {
     "name": "stdout",
     "output_type": "stream",
     "text": [
      "Enter radius : 30\n"
     ]
    },
    {
     "data": {
      "text/plain": [
       "188.4"
      ]
     },
     "execution_count": 58,
     "metadata": {},
     "output_type": "execute_result"
    }
   ],
   "source": [
    "radius=input('Enter radius : ')#to find the circumference of circle\n",
    "radius=int(radius)\n",
    "_circum_of_circle_=2*3.14*radius\n",
    "_circum_of_circle_"
   ]
  },
  {
   "cell_type": "code",
   "execution_count": 59,
   "id": "9bbb91aa",
   "metadata": {},
   "outputs": [
    {
     "data": {
      "text/plain": [
       "10"
      ]
     },
     "execution_count": 59,
     "metadata": {},
     "output_type": "execute_result"
    }
   ],
   "source": [
    "#Question6#\n",
    "l1=\"I am a teacher and I love to inspire and teach people\"#the split methods and set to get the unique words\n",
    "list_1=l1.split(' ')\n",
    "set_1=set(list_1)\n",
    "set_1\n",
    "len(set_1)"
   ]
  },
  {
   "cell_type": "code",
   "execution_count": 60,
   "id": "054cb76d",
   "metadata": {},
   "outputs": [
    {
     "name": "stdout",
     "output_type": "stream",
     "text": [
      "Name    Age    Country   City\n",
      "Asabeneh  250   Finlan   Helsinki\n"
     ]
    }
   ],
   "source": [
    "#Question7#\n",
    "print('Name    Age    Country   City')#the tab escape sequence to get the following lines.\n",
    "\n",
    "\n",
    "print('Asabeneh  250   Finlan   Helsinki')"
   ]
  },
  {
   "cell_type": "code",
   "execution_count": 61,
   "id": "1e1914eb",
   "metadata": {},
   "outputs": [
    {
     "name": "stdout",
     "output_type": "stream",
     "text": [
      "The area of circle with radius 10 is 314.0 meter square\n"
     ]
    }
   ],
   "source": [
    "#Question8#\n",
    "radius=10 #area of circle\n",
    "area=3.14*radius**2\n",
    "print('The area of circle with radius',radius,'is',area,'meter square')"
   ]
  },
  {
   "cell_type": "code",
   "execution_count": 62,
   "id": "af9cb748",
   "metadata": {},
   "outputs": [
    {
     "name": "stdout",
     "output_type": "stream",
     "text": [
      "Enter no.of elements :4\n",
      "150\n",
      "155\n",
      "145\n",
      "148\n"
     ]
    },
    {
     "data": {
      "text/plain": [
       "[68.0388555, 70.30681735, 65.77089365, 67.13167076]"
      ]
     },
     "execution_count": 62,
     "metadata": {},
     "output_type": "execute_result"
    }
   ],
   "source": [
    "#Question9#\n",
    "num_list=[] # program to convert weights from kgs to lbs.  \n",
    "weights_kgs=[]\n",
    "count=int(input('Enter no.of elements :'))\n",
    "for i in range(0,count):\n",
    "    num_list.append(int(input()))\n",
    "for i in num_list:\n",
    "    weights_kgs.append(i*0.45359237)#conversion formula\n",
    "weights_kgs"
   ]
  },
  {
   "cell_type": "code",
   "execution_count": 63,
   "id": "0be983c7",
   "metadata": {},
   "outputs": [
    {
     "data": {
      "text/plain": [
       "'C:\\\\Users\\\\vinod kumar'"
      ]
     },
     "execution_count": 63,
     "metadata": {},
     "output_type": "execute_result"
    }
   ],
   "source": [
    "pwd"
   ]
  },
  {
   "cell_type": "code",
   "execution_count": null,
   "id": "460ccf44",
   "metadata": {},
   "outputs": [],
   "source": []
  }
 ],
 "metadata": {
  "kernelspec": {
   "display_name": "Python 3 (ipykernel)",
   "language": "python",
   "name": "python3"
  },
  "language_info": {
   "codemirror_mode": {
    "name": "ipython",
    "version": 3
   },
   "file_extension": ".py",
   "mimetype": "text/x-python",
   "name": "python",
   "nbconvert_exporter": "python",
   "pygments_lexer": "ipython3",
   "version": "3.9.12"
  }
 },
 "nbformat": 4,
 "nbformat_minor": 5
}
